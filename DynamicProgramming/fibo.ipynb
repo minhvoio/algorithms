{
 "cells": [
  {
   "cell_type": "markdown",
   "metadata": {},
   "source": [
    "## When to use dynamic programming\n",
    "Mathematically, dynamic programming is an optimization method on one or more sequences (e.g., arrays, matrices). So questions asking about the optimal way to do something on one or more sequences are often a good candidate for dynamic programming. Typically, dynamic programming problems will ask for one of the following:\n",
    "\n",
    "- The maximum/longest, minimal/shortest value/cost/profit you can get from doing operations on a sequence.\n",
    "- How many ways there are to do something. This can often be solved by DFS + memoization, i.e., top-down dynamic programming.\n",
    "- Is it possible to accomplish something? Often this kind of problem will ask you to return a boolean."
   ]
  },
  {
   "cell_type": "markdown",
   "metadata": {},
   "source": [
    "## Finding Fibonacci"
   ]
  },
  {
   "cell_type": "code",
   "execution_count": 28,
   "metadata": {},
   "outputs": [
    {
     "name": "stdout",
     "output_type": "stream",
     "text": [
      "55\n"
     ]
    }
   ],
   "source": [
    "def fibo(n):\n",
    "  assert n >= 0, \"n must be positive\"\n",
    "\n",
    "  if n == 0 or n == 1:\n",
    "    return n\n",
    "  \n",
    "  F = [None] * (n+1)\n",
    "  F[0] = 0\n",
    "  F[1] = 1\n",
    "\n",
    "  for i in range(2, n+1):\n",
    "    F[i] = F[i-1] + F[i-2]\n",
    "\n",
    "  return F[n]\n",
    "\n",
    "print(fibo(10))"
   ]
  },
  {
   "cell_type": "markdown",
   "metadata": {},
   "source": [
    "#### Memoization Technique (Top-down)"
   ]
  },
  {
   "cell_type": "code",
   "execution_count": 27,
   "metadata": {},
   "outputs": [
    {
     "name": "stdout",
     "output_type": "stream",
     "text": [
      "55\n"
     ]
    }
   ],
   "source": [
    "memo = {}\n",
    "\n",
    "def fibo(n):\n",
    "  assert n >= 0, \"n must be positive\"\n",
    "\n",
    "  if n == 0 or n == 1:  \n",
    "    return n\n",
    "  \n",
    "  if n in memo.keys():\n",
    "    return memo[n]\n",
    "\n",
    "  memo[n] = fibo(n-1) + fibo(n-2)\n",
    "\n",
    "  return memo[n]\n",
    "\n",
    "print(fibo(10))"
   ]
  },
  {
   "cell_type": "markdown",
   "metadata": {},
   "source": [
    "## Best Time to Buy and Sell Stock\n",
    "\n",
    "You are given an array prices where prices[i] is the price of a given stock on the ith day.\n",
    "\n",
    "You want to maximize your profit by choosing a single day to buy one stock and choosing a different day in the future to sell that stock.\n",
    "\n",
    "Return the maximum profit you can achieve from this transaction. If you cannot achieve any profit, return 0.\n",
    "\n",
    " \n",
    "\n",
    "Example 1:\n",
    "\n",
    "Input: prices = [7,1,5,3,6,4]\n",
    "Output: 5\n",
    "Explanation: Buy on day 2 (price = 1) and sell on day 5 (price = 6), profit = 6-1 = 5.\n",
    "Note that buying on day 2 and selling on day 1 is not allowed because you must buy before you sell.\n",
    "Example 2:\n",
    "\n",
    "Input: prices = [7,6,4,3,1]\n",
    "Output: 0\n",
    "Explanation: In this case, no transactions are done and the max profit = 0.\n",
    " \n",
    "\n",
    "Constraints:\n",
    "\n",
    "1 <= prices.length <= 10^5\n",
    "0 <= prices[i] <= 10^4"
   ]
  },
  {
   "cell_type": "code",
   "execution_count": 30,
   "metadata": {},
   "outputs": [
    {
     "name": "stdout",
     "output_type": "stream",
     "text": [
      "5\n",
      "0\n"
     ]
    }
   ],
   "source": [
    "def buyStock(prices):\n",
    "  minPrice = float('inf')\n",
    "  maxProfit = 0\n",
    "\n",
    "  for price in prices:\n",
    "    minPrice = min(price, minPrice)\n",
    "    profit = price - minPrice\n",
    "    maxProfit = max(profit, maxProfit)\n",
    "\n",
    "  return maxProfit\n",
    "\n",
    "print(buyStock([7, 1, 5, 3, 6, 4]))\n",
    "print(buyStock([7, 6, 4, 3, 1]))"
   ]
  },
  {
   "cell_type": "markdown",
   "metadata": {},
   "source": [
    "## Pascal's triangle"
   ]
  },
  {
   "cell_type": "markdown",
   "metadata": {},
   "source": [
    "Given an integer numRows, return the first numRows of Pascal's triangle.\n",
    "\n",
    "In Pascal's triangle, each number is the sum of the two numbers directly above it as shown:\n",
    "\n",
    "Example 1:\n",
    "\n",
    "Input: numRows = 5\n",
    "Output: [[1],[1,1],[1,2,1],[1,3,3,1],[1,4,6,4,1]]\n",
    "Example 2:\n",
    "\n",
    "Input: numRows = 1\n",
    "Output: [[1]]\n",
    " \n",
    "\n",
    "Constraints:\n",
    "\n",
    "1 <= numRows <= 30"
   ]
  },
  {
   "cell_type": "code",
   "execution_count": 31,
   "metadata": {},
   "outputs": [
    {
     "name": "stdout",
     "output_type": "stream",
     "text": [
      "[1, 1]\n"
     ]
    }
   ],
   "source": [
    "print([1] + [1])"
   ]
  },
  {
   "cell_type": "markdown",
   "metadata": {},
   "source": [
    "#### Mine solution"
   ]
  },
  {
   "cell_type": "code",
   "execution_count": 37,
   "metadata": {},
   "outputs": [
    {
     "name": "stdout",
     "output_type": "stream",
     "text": [
      "[[1], [1, 1], [1, 2, 1], [1, 3, 3, 1], [1, 4, 6, 4, 1]]\n",
      "[[1]]\n"
     ]
    }
   ],
   "source": [
    "from typing import List\n",
    "\n",
    "class Solution:\n",
    "    def generate(self, numRows: int) -> List[List[int]]:\n",
    "        \n",
    "        def pairSum(lst):\n",
    "            return [lst[i] + lst[i + 1] for i in range(len(lst) - 1)]\n",
    "        \n",
    "        F = [None] * numRows\n",
    "\n",
    "        if numRows == 1:\n",
    "            return [[1]]\n",
    "        elif numRows == 2:\n",
    "            return [[1], [1, 1]]\n",
    "\n",
    "        F[0] = [1]\n",
    "        F[1] = [1, 1]\n",
    "\n",
    "        for i in range(2, numRows):\n",
    "            F[i] = [1] + pairSum(F[i - 1]) + [1]\n",
    "\n",
    "        return F\n",
    "\n",
    "# Example usage:\n",
    "solution = Solution()\n",
    "print(solution.generate(5))  # Output: [[1], [1, 1], [1, 2, 1], [1, 3, 3, 1], [1, 4, 6, 4, 1]]\n",
    "print(solution.generate(1))  # Output: [[1]]"
   ]
  }
 ],
 "metadata": {
  "kernelspec": {
   "display_name": "dl",
   "language": "python",
   "name": "python3"
  },
  "language_info": {
   "codemirror_mode": {
    "name": "ipython",
    "version": 3
   },
   "file_extension": ".py",
   "mimetype": "text/x-python",
   "name": "python",
   "nbconvert_exporter": "python",
   "pygments_lexer": "ipython3",
   "version": "3.12.4"
  }
 },
 "nbformat": 4,
 "nbformat_minor": 2
}
