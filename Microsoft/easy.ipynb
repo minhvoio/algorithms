{
 "cells": [
  {
   "cell_type": "markdown",
   "metadata": {},
   "source": [
    "### 100 prime numbers\n",
    "\n",
    "Find all prime numbers between 1 and 100. Prime number: a whole number greater than 1 that cannot be exactly divided by any whole number other than itself and 1 (e.g. 2, 3, 5, 7, 11)\n",
    "\n",
    "#dynamic_programming"
   ]
  },
  {
   "cell_type": "code",
   "execution_count": 6,
   "metadata": {},
   "outputs": [
    {
     "name": "stdout",
     "output_type": "stream",
     "text": [
      "2 3 5 7 11 13 17 19 23 29 31 37 41 43 47 53 59 61 67 71 73 79 83 89 97 "
     ]
    }
   ],
   "source": [
    "def find_prime(n):\n",
    "  primes = [True] * (n+1)\n",
    "\n",
    "  primes[0] = primes[1] = False\n",
    "\n",
    "  p = 2\n",
    "\n",
    "  while p*p < n+1:\n",
    "    if primes[p] == True:\n",
    "      for i in range(p*p, n+1, p):        \n",
    "        primes[i] = False\n",
    "\n",
    "    p += 1      \n",
    "\n",
    "  for i in range (2, n+1):\n",
    "    if primes[i]:\n",
    "      print(i, end=' ')\n",
    "\n",
    "find_prime(100)"
   ]
  },
  {
   "cell_type": "markdown",
   "metadata": {},
   "source": [
    "### Time Complexity:\n",
    "The time complexity of the Sieve of Eratosthenes algorithm is $O(n \\log \\log n)$. Here's the breakdown:\n",
    "- The outer loop runs from 2 to $\\sqrt{n}$, which is $O(\\sqrt{n})$.\n",
    "- The inner loop runs for each prime $p$ and marks its multiples, which takes $O(\\frac{n}{p})$ time. Summing this over all primes gives $O(n \\log \\log n)$.\n",
    "\n",
    "### Space Complexity:\n",
    "The space complexity is $O(n)$ because we use an array [`primes`](command:_github.copilot.openSymbolFromReferences?%5B%22%22%2C%5B%7B%22uri%22%3A%7B%22scheme%22%3A%22vscode-notebook-cell%22%2C%22authority%22%3A%22%22%2C%22path%22%3A%22%2FUsers%2Fminhvo%2F1-GitHub%2FAlgorithms%2FMicrosoft%2Feasy.ipynb%22%2C%22query%22%3A%22%22%2C%22fragment%22%3A%22W2sZmlsZQ%3D%3D%22%7D%2C%22pos%22%3A%7B%22line%22%3A1%2C%22character%22%3A2%7D%7D%5D%2C%22d6f88dc1-9518-4583-b187-91080c967fff%22%5D \"Go to definition\") of size $n+1$ to keep track of prime numbers.\n",
    "\n",
    "### Summary:\n",
    "- **Time Complexity:** $O(n \\log \\log n)$\n",
    "- **Space Complexity:** $O(n)$"
   ]
  },
  {
   "cell_type": "markdown",
   "metadata": {},
   "source": []
  }
 ],
 "metadata": {
  "kernelspec": {
   "display_name": "Python 3",
   "language": "python",
   "name": "python3"
  },
  "language_info": {
   "codemirror_mode": {
    "name": "ipython",
    "version": 3
   },
   "file_extension": ".py",
   "mimetype": "text/x-python",
   "name": "python",
   "nbconvert_exporter": "python",
   "pygments_lexer": "ipython3",
   "version": "3.12.3"
  }
 },
 "nbformat": 4,
 "nbformat_minor": 2
}
